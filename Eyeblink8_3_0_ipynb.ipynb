{
  "nbformat": 4,
  "nbformat_minor": 0,
  "metadata": {
    "colab": {
      "provenance": [],
      "gpuType": "T4",
      "authorship_tag": "ABX9TyO1GkVq6bOrSn5Xe65RHGlc",
      "include_colab_link": true
    },
    "kernelspec": {
      "name": "python3",
      "display_name": "Python 3"
    },
    "language_info": {
      "name": "python"
    },
    "accelerator": "GPU"
  },
  "cells": [
    {
      "cell_type": "markdown",
      "metadata": {
        "id": "view-in-github",
        "colab_type": "text"
      },
      "source": [
        "<a href=\"https://colab.research.google.com/github/Gapilesh/BlinkKey_FinalProject/blob/main/Eyeblink8_3_0_ipynb.ipynb\" target=\"_parent\"><img src=\"https://colab.research.google.com/assets/colab-badge.svg\" alt=\"Open In Colab\"/></a>"
      ]
    },
    {
      "cell_type": "markdown",
      "source": [],
      "metadata": {
        "id": "swgdzndrGMQN"
      }
    },
    {
      "cell_type": "markdown",
      "source": [
        "Step 1: Mount Google Drive"
      ],
      "metadata": {
        "id": "3XDmqp2KHhkD"
      }
    },
    {
      "cell_type": "code",
      "execution_count": 1,
      "metadata": {
        "colab": {
          "base_uri": "https://localhost:8080/"
        },
        "id": "5I4jeQK0F8kh",
        "outputId": "e5ae09d5-996d-4df2-c14c-98e5d95c65c2"
      },
      "outputs": [
        {
          "output_type": "stream",
          "name": "stdout",
          "text": [
            "Mounted at /content/drive\n"
          ]
        }
      ],
      "source": [
        "# Mount Google Drive\n",
        "from google.colab import drive\n",
        "drive.mount('/content/drive')"
      ]
    },
    {
      "cell_type": "markdown",
      "source": [
        "Step 2: Unzip the Dataset"
      ],
      "metadata": {
        "id": "QnwE-ti9Hi-U"
      }
    },
    {
      "cell_type": "code",
      "source": [
        "import zipfile\n",
        "\n",
        "# Path to the zip file in your drive\n",
        "zip_path = '/content/drive/MyDrive/Dataset/Eyeblink/eyeblink8.zip'\n",
        "\n",
        "# Unzip the dataset into the Eyeblink folder in your drive\n",
        "with zipfile.ZipFile(zip_path, 'r') as zip_ref:\n",
        "    zip_ref.extractall('/content/drive/MyDrive/Dataset/Eyeblink')\n",
        "\n",
        "print(\"Dataset unzipped successfully!\")"
      ],
      "metadata": {
        "colab": {
          "base_uri": "https://localhost:8080/"
        },
        "id": "AW5n5t3kHcfb",
        "outputId": "b92ed145-012e-4c1b-837a-c515e6c4d5b5"
      },
      "execution_count": 2,
      "outputs": [
        {
          "output_type": "stream",
          "name": "stdout",
          "text": [
            "Dataset unzipped successfully!\n"
          ]
        }
      ]
    },
    {
      "cell_type": "markdown",
      "source": [
        "Step 3: List Folders in the Dataset"
      ],
      "metadata": {
        "id": "3Ov-EJavHkgy"
      }
    },
    {
      "cell_type": "code",
      "source": [
        "import os\n",
        "\n",
        "# Path to the unzipped dataset\n",
        "dataset_path = '/content/drive/MyDrive/Dataset/Eyeblink/eyeblink8'\n",
        "\n",
        "# List folders (e.g., '1', '2', '3', '4', '8', '9', '10', '11')\n",
        "folders = os.listdir(dataset_path)\n",
        "print(\"Folders in the dataset:\", folders)\n",
        "\n",
        "# Check contents of one folder (for example, folder '1')\n",
        "sample_folder = os.path.join(dataset_path, '1')\n",
        "sample_files = os.listdir(sample_folder)\n",
        "print(\"Files in folder '1':\", sample_files)"
      ],
      "metadata": {
        "colab": {
          "base_uri": "https://localhost:8080/"
        },
        "id": "9y2yK_GWHdGT",
        "outputId": "55af3add-2b0c-47da-b707-7efca6caa044"
      },
      "execution_count": 3,
      "outputs": [
        {
          "output_type": "stream",
          "name": "stdout",
          "text": [
            "Folders in the dataset: ['1', '10', '11', '2', '3', '4', '8', '9']\n",
            "Files in folder '1': ['26122013_223310_cam.avi', '26122013_223310_cam.tag', '26122013_223310_cam.txt']\n"
          ]
        }
      ]
    },
    {
      "cell_type": "markdown",
      "source": [
        "Step 4: Extract Frames from a Video (Using a Lower Frame Limit and a Drive Output Folder)"
      ],
      "metadata": {
        "id": "vkF4s_l9Hnib"
      }
    },
    {
      "cell_type": "code",
      "source": [
        "!pip install opencv-python\n",
        "\n",
        "import cv2\n",
        "import os\n",
        "\n",
        "def extract_frames(video_path, output_folder, frame_limit=300):\n",
        "    # Create output folder if it doesn't exist—in your Drive to persist files\n",
        "    os.makedirs(output_folder, exist_ok=True)\n",
        "\n",
        "    # Open the video\n",
        "    cap = cv2.VideoCapture(video_path)\n",
        "    frame_count = 0\n",
        "\n",
        "    while True:\n",
        "        ret, frame = cap.read()\n",
        "        if (not ret) or (frame_count >= frame_limit):\n",
        "            break\n",
        "\n",
        "        # Save each frame as an image\n",
        "        frame_path = os.path.join(output_folder, f\"frame_{frame_count:04d}.jpg\")\n",
        "        cv2.imwrite(frame_path, frame)\n",
        "        frame_count += 1\n",
        "\n",
        "    cap.release()\n",
        "    print(f\"Extracted {frame_count} frames from {video_path}\")\n",
        "\n",
        "# Example: Extract frames from folder '1', adjust the output folder path as needed\n",
        "video_path = os.path.join(dataset_path, '1', '26122013_223310_cam.avi')\n",
        "output_folder = '/content/drive/MyDrive/Dataset/Eyeblink/eyeblink8/eyeblink_frames/1'\n",
        "extract_frames(video_path, output_folder, frame_limit=300)"
      ],
      "metadata": {
        "colab": {
          "base_uri": "https://localhost:8080/"
        },
        "id": "appAkPDlHqG7",
        "outputId": "dc93526f-422b-48c9-8849-c4075b694862"
      },
      "execution_count": 7,
      "outputs": [
        {
          "output_type": "stream",
          "name": "stdout",
          "text": [
            "Requirement already satisfied: opencv-python in /usr/local/lib/python3.11/dist-packages (4.11.0.86)\n",
            "Requirement already satisfied: numpy>=1.21.2 in /usr/local/lib/python3.11/dist-packages (from opencv-python) (1.26.4)\n",
            "Extracted 300 frames from /content/drive/MyDrive/Dataset/Eyeblink/eyeblink8/1/26122013_223310_cam.avi\n"
          ]
        }
      ]
    },
    {
      "cell_type": "markdown",
      "source": [
        "Step 5: Parse Annotations"
      ],
      "metadata": {
        "id": "YT5vb6guJ1nj"
      }
    },
    {
      "cell_type": "code",
      "source": [
        "def parse_annotations(annotation_path):\n",
        "    blink_labels = []\n",
        "    with open(annotation_path, 'r') as file:\n",
        "        for line in file.readlines():\n",
        "            # Use comma (or adjust to appropriate delimiter, e.g., whitespace)\n",
        "            parts = line.strip().split(' ') # Used space to split\n",
        "            if len(parts) >= 2:\n",
        "                # You can modify this to compute a label based on the decimal value if needed.\n",
        "                frame_number = parts[0]\n",
        "                # For demonstration, we label a blink if the timestamp value exceeds a threshold (example logic)\n",
        "                timestamp = float(parts[1])\n",
        "                label = 1 if timestamp > 0.1 else 0\n",
        "                blink_labels.append(label)\n",
        "    return blink_labels\n",
        "\n",
        "# Example: Parse annotations for folder '1'\n",
        "annotation_path = os.path.join(dataset_path, '1', '26122013_223310_cam.txt')\n",
        "blink_labels = parse_annotations(annotation_path)\n",
        "print(\"Blink labels for folder '1' (first 10):\", blink_labels[:10])"
      ],
      "metadata": {
        "colab": {
          "base_uri": "https://localhost:8080/"
        },
        "id": "_83STdkcJ3T7",
        "outputId": "cd070e56-c538-4f7a-8f2b-1751f8290d45"
      },
      "execution_count": 13,
      "outputs": [
        {
          "output_type": "stream",
          "name": "stdout",
          "text": [
            "Blink labels for folder '1' (first 10): [1, 1, 1, 1, 1, 1, 1, 1, 1, 1]\n"
          ]
        }
      ]
    }
  ]
}